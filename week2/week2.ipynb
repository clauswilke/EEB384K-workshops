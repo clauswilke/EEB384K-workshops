{
 "cells": [
  {
   "cell_type": "markdown",
   "id": "f4bdc548",
   "metadata": {},
   "source": [
    "## Week 2 workshop\n",
    "\n",
    "In this week, we'll look at basic pytorch tensor operations. The materials are based on Section 2 of Sebastian Raschka's 1-hour pytorch tutorial, available here: https://sebastianraschka.com/teaching/pytorch-1h/#2-understanding-tensors\n",
    "\n",
    "First we import torch:"
   ]
  },
  {
   "cell_type": "code",
   "execution_count": null,
   "id": "49a385eb",
   "metadata": {},
   "outputs": [],
   "source": [
    "import torch"
   ]
  },
  {
   "cell_type": "markdown",
   "id": "7b33f317",
   "metadata": {},
   "source": [
    "Next we create some tensors:"
   ]
  },
  {
   "cell_type": "code",
   "execution_count": null,
   "id": "b72a6a15",
   "metadata": {},
   "outputs": [],
   "source": [
    "# create a 0D tensor (scalar) from a Python integer\n",
    "tensor0d = torch.tensor(1)\n",
    "print(tensor0d)\n",
    "\n",
    "# create a 1D tensor (vector) from a Python list\n",
    "tensor1d = torch.tensor([1, 2, 3])\n",
    "print(tensor1d)\n",
    "\n",
    "# create a 2D tensor from a nested Python list\n",
    "tensor2d = torch.tensor([[1, 2], [3, 4]])\n",
    "print(tensor2d)\n",
    "\n",
    "# create a 3D tensor from a nested Python list\n",
    "tensor3d = torch.tensor([[[1, 2], [3, 4]], [[5, 6], [7, 8]]])\n",
    "print(tensor3d)"
   ]
  },
  {
   "cell_type": "markdown",
   "id": "8ddb83ea",
   "metadata": {},
   "source": [
    "We often need to deal with the specific data types of the numbers stored in a tensor. We can query them and change them:"
   ]
  },
  {
   "cell_type": "code",
   "execution_count": null,
   "id": "2e5778f7",
   "metadata": {},
   "outputs": [],
   "source": [
    "# Query the data type. It is `int64`, because we constructed the tensor from a python integer.\n",
    "tensor0d.dtype"
   ]
  },
  {
   "cell_type": "code",
   "execution_count": null,
   "id": "e96f2655",
   "metadata": {},
   "outputs": [],
   "source": [
    "# Convert to torch.float32\n",
    "tensor0d_float = tensor0d.to(torch.float32)\n",
    "tensor0d_float.dtype"
   ]
  },
  {
   "cell_type": "markdown",
   "id": "53ddf3b6",
   "metadata": {},
   "source": [
    "## Tensor shapes and reshaping\n",
    "\n",
    "Create a tensor with two rows and three columns:"
   ]
  },
  {
   "cell_type": "code",
   "execution_count": null,
   "id": "0844ad66",
   "metadata": {},
   "outputs": [],
   "source": [
    "tensor2d = torch.tensor([[1, 2, 3],\n",
    "                         [4, 5, 6]])\n",
    "tensor2d"
   ]
  },
  {
   "cell_type": "markdown",
   "id": "f596099b",
   "metadata": {},
   "source": [
    "The `shape` attribute shows us the number of elements in each dimension:"
   ]
  },
  {
   "cell_type": "code",
   "execution_count": null,
   "id": "baae4222",
   "metadata": {},
   "outputs": [],
   "source": [
    "tensor2d.shape"
   ]
  },
  {
   "cell_type": "markdown",
   "id": "77ea1f58",
   "metadata": {},
   "source": [
    "**Exercise:** Create a 3d tensor with different numbers of element in each dimension and verify that `shape` returns the right answer."
   ]
  },
  {
   "cell_type": "code",
   "execution_count": null,
   "id": "ee3236bb",
   "metadata": {},
   "outputs": [],
   "source": [
    "# your code here"
   ]
  },
  {
   "cell_type": "markdown",
   "id": "03151091",
   "metadata": {},
   "source": [
    "The `view()` method changes how the elements in a tensor are allocated to the different dimensions:"
   ]
  },
  {
   "cell_type": "code",
   "execution_count": null,
   "id": "d67f9d0a",
   "metadata": {},
   "outputs": [],
   "source": [
    "tensor2d.view(3, 2)"
   ]
  },
  {
   "cell_type": "code",
   "execution_count": null,
   "id": "f5362350",
   "metadata": {},
   "outputs": [],
   "source": [
    "tensor2d.view(1, 6)"
   ]
  },
  {
   "cell_type": "markdown",
   "id": "99aa792d",
   "metadata": {},
   "source": [
    "**Exercise:** Create a 2d tensor with two rows and four columns and then use the `view()` method to change it into a 3d tensor with two elements in each dimension."
   ]
  },
  {
   "cell_type": "code",
   "execution_count": null,
   "id": "970c5d14",
   "metadata": {},
   "outputs": [],
   "source": [
    "# your code here"
   ]
  },
  {
   "cell_type": "markdown",
   "id": "97f4dcb2",
   "metadata": {},
   "source": [
    "The `T` attribute transposes a tensor. Note how its output differs from using `view()` to obtain a tensor of the same shape. Can you explain the difference?"
   ]
  },
  {
   "cell_type": "code",
   "execution_count": null,
   "id": "a66e8adf",
   "metadata": {},
   "outputs": [],
   "source": [
    "tensor2d.T"
   ]
  },
  {
   "cell_type": "code",
   "execution_count": null,
   "id": "6f7afa37",
   "metadata": {},
   "outputs": [],
   "source": [
    "tensor2d.view(3, 2)"
   ]
  },
  {
   "cell_type": "markdown",
   "id": "6c5066af",
   "metadata": {},
   "source": [
    "## Matrix multiplication\n",
    "\n",
    "We can perform a matrix multiplication between two tensors with the `@` operator:"
   ]
  },
  {
   "cell_type": "code",
   "execution_count": null,
   "id": "3d813cee",
   "metadata": {},
   "outputs": [],
   "source": [
    "# define a matrix\n",
    "M = torch.tensor([[1, 2], [3, 4]])\n",
    "# and a vector\n",
    "v = torch.tensor([1, 2])\n",
    "# multiply\n",
    "M @ v.view(2, 1)\n",
    "# do you know why we wrote v.view(2, 1) in the last step? "
   ]
  },
  {
   "cell_type": "markdown",
   "id": "2eb07a84",
   "metadata": {},
   "source": [
    "**Exercise:** Can you explain the output of the following code? Why do we get the result we get?"
   ]
  },
  {
   "cell_type": "code",
   "execution_count": null,
   "id": "cd73a138",
   "metadata": {},
   "outputs": [],
   "source": [
    "torch.tensor([1, 2, 3, 4, 5]).view(5, 1) @ torch.tensor([[1, 2, 3, 4]])"
   ]
  }
 ],
 "metadata": {
  "kernelspec": {
   "display_name": ".venv",
   "language": "python",
   "name": "python3"
  },
  "language_info": {
   "codemirror_mode": {
    "name": "ipython",
    "version": 3
   },
   "file_extension": ".py",
   "mimetype": "text/x-python",
   "name": "python",
   "nbconvert_exporter": "python",
   "pygments_lexer": "ipython3",
   "version": "3.12.4"
  }
 },
 "nbformat": 4,
 "nbformat_minor": 5
}
